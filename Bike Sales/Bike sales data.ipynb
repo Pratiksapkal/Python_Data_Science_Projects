{
 "cells": [
  {
   "cell_type": "code",
   "execution_count": 94,
   "id": "990e9ca7",
   "metadata": {},
   "outputs": [],
   "source": [
    "import pandas as pd\n",
    "import numpy as np\n",
    "import seaborn as sns\n",
    "import matplotlib.pyplot as plt"
   ]
  },
  {
   "cell_type": "code",
   "execution_count": 95,
   "id": "19b76b06",
   "metadata": {},
   "outputs": [],
   "source": [
    "data = pd.read_excel(r'C:\\Users\\Admin\\Downloads\\archive (5)\\Bike sales data.xlsx')"
   ]
  },
  {
   "cell_type": "code",
   "execution_count": 96,
   "id": "8fede454",
   "metadata": {},
   "outputs": [
    {
     "data": {
      "text/html": [
       "<div>\n",
       "<style scoped>\n",
       "    .dataframe tbody tr th:only-of-type {\n",
       "        vertical-align: middle;\n",
       "    }\n",
       "\n",
       "    .dataframe tbody tr th {\n",
       "        vertical-align: top;\n",
       "    }\n",
       "\n",
       "    .dataframe thead th {\n",
       "        text-align: right;\n",
       "    }\n",
       "</style>\n",
       "<table border=\"1\" class=\"dataframe\">\n",
       "  <thead>\n",
       "    <tr style=\"text-align: right;\">\n",
       "      <th></th>\n",
       "      <th>Sales_Order #</th>\n",
       "      <th>Date</th>\n",
       "      <th>Day</th>\n",
       "      <th>Month</th>\n",
       "      <th>Year</th>\n",
       "      <th>Customer_Age</th>\n",
       "      <th>Age_Group</th>\n",
       "      <th>Customer_Gender</th>\n",
       "      <th>Country</th>\n",
       "      <th>State</th>\n",
       "      <th>Product_Category</th>\n",
       "      <th>Sub_Category</th>\n",
       "      <th>Product_Description</th>\n",
       "      <th>Order_Quantity</th>\n",
       "      <th>Unit_Cost</th>\n",
       "      <th>Unit_Price</th>\n",
       "      <th>Profit</th>\n",
       "      <th>Cost</th>\n",
       "      <th>Revenue</th>\n",
       "    </tr>\n",
       "  </thead>\n",
       "  <tbody>\n",
       "    <tr>\n",
       "      <th>0</th>\n",
       "      <td>261695</td>\n",
       "      <td>2021-12-01</td>\n",
       "      <td>1.0</td>\n",
       "      <td>December</td>\n",
       "      <td>2021</td>\n",
       "      <td>39</td>\n",
       "      <td>Adults (35-64)</td>\n",
       "      <td>F</td>\n",
       "      <td>United States</td>\n",
       "      <td>California</td>\n",
       "      <td>Bikes</td>\n",
       "      <td>Mountain Bikes</td>\n",
       "      <td>Mountain-200 Black, 46</td>\n",
       "      <td>4.0</td>\n",
       "      <td>1252</td>\n",
       "      <td>2295</td>\n",
       "      <td>4172</td>\n",
       "      <td>5008</td>\n",
       "      <td>9180</td>\n",
       "    </tr>\n",
       "    <tr>\n",
       "      <th>1</th>\n",
       "      <td>261695</td>\n",
       "      <td>2021-12-01</td>\n",
       "      <td>1.0</td>\n",
       "      <td>December</td>\n",
       "      <td>2021</td>\n",
       "      <td>44</td>\n",
       "      <td>Adults (35-64)</td>\n",
       "      <td>M</td>\n",
       "      <td>United Kingdom</td>\n",
       "      <td>England</td>\n",
       "      <td>Bikes</td>\n",
       "      <td>Mountain Bikes</td>\n",
       "      <td>Mountain-200 Silver, 42</td>\n",
       "      <td>1.0</td>\n",
       "      <td>1266</td>\n",
       "      <td>2320</td>\n",
       "      <td>1054</td>\n",
       "      <td>1266</td>\n",
       "      <td>2320</td>\n",
       "    </tr>\n",
       "    <tr>\n",
       "      <th>2</th>\n",
       "      <td>261697</td>\n",
       "      <td>2021-12-02</td>\n",
       "      <td>2.0</td>\n",
       "      <td>December</td>\n",
       "      <td>2021</td>\n",
       "      <td>37</td>\n",
       "      <td>Adults (35-64)</td>\n",
       "      <td>M</td>\n",
       "      <td>United States</td>\n",
       "      <td>California</td>\n",
       "      <td>Bikes</td>\n",
       "      <td>Mountain Bikes</td>\n",
       "      <td>Mountain-400-W Silver, 46</td>\n",
       "      <td>2.0</td>\n",
       "      <td>420</td>\n",
       "      <td>769</td>\n",
       "      <td>698</td>\n",
       "      <td>840</td>\n",
       "      <td>1538</td>\n",
       "    </tr>\n",
       "    <tr>\n",
       "      <th>3</th>\n",
       "      <td>261698</td>\n",
       "      <td>2021-12-02</td>\n",
       "      <td>2.0</td>\n",
       "      <td>December</td>\n",
       "      <td>2021</td>\n",
       "      <td>31</td>\n",
       "      <td>Young Adults (25-34)</td>\n",
       "      <td>F</td>\n",
       "      <td>Australia</td>\n",
       "      <td>New South Wales</td>\n",
       "      <td>Bikes</td>\n",
       "      <td>Mountain Bikes</td>\n",
       "      <td>Mountain-400-W Silver, 42</td>\n",
       "      <td>1.0</td>\n",
       "      <td>420</td>\n",
       "      <td>769</td>\n",
       "      <td>349</td>\n",
       "      <td>420</td>\n",
       "      <td>769</td>\n",
       "    </tr>\n",
       "    <tr>\n",
       "      <th>4</th>\n",
       "      <td>261699</td>\n",
       "      <td>2021-12-03</td>\n",
       "      <td>3.0</td>\n",
       "      <td>December</td>\n",
       "      <td>2021</td>\n",
       "      <td>37</td>\n",
       "      <td>Adults (35-64)</td>\n",
       "      <td>F</td>\n",
       "      <td>United  States</td>\n",
       "      <td>California</td>\n",
       "      <td>Bikes</td>\n",
       "      <td>Mountain Bikes</td>\n",
       "      <td>Mountain-200 Black, 46</td>\n",
       "      <td>2.0</td>\n",
       "      <td>0</td>\n",
       "      <td>2295</td>\n",
       "      <td>2086</td>\n",
       "      <td>0</td>\n",
       "      <td>4590</td>\n",
       "    </tr>\n",
       "  </tbody>\n",
       "</table>\n",
       "</div>"
      ],
      "text/plain": [
       "   Sales_Order #       Date  Day     Month  Year  Customer_Age  \\\n",
       "0         261695 2021-12-01  1.0  December  2021            39   \n",
       "1         261695 2021-12-01  1.0  December  2021            44   \n",
       "2         261697 2021-12-02  2.0  December  2021            37   \n",
       "3         261698 2021-12-02  2.0  December  2021            31   \n",
       "4         261699 2021-12-03  3.0  December  2021            37   \n",
       "\n",
       "              Age_Group Customer_Gender         Country            State  \\\n",
       "0        Adults (35-64)               F   United States       California   \n",
       "1        Adults (35-64)               M  United Kingdom          England   \n",
       "2        Adults (35-64)               M   United States       California   \n",
       "3  Young Adults (25-34)               F       Australia  New South Wales   \n",
       "4        Adults (35-64)               F  United  States       California   \n",
       "\n",
       "  Product_Category    Sub_Category        Product_Description  Order_Quantity  \\\n",
       "0            Bikes  Mountain Bikes     Mountain-200 Black, 46             4.0   \n",
       "1            Bikes  Mountain Bikes    Mountain-200 Silver, 42             1.0   \n",
       "2            Bikes  Mountain Bikes  Mountain-400-W Silver, 46             2.0   \n",
       "3            Bikes  Mountain Bikes  Mountain-400-W Silver, 42             1.0   \n",
       "4            Bikes  Mountain Bikes     Mountain-200 Black, 46             2.0   \n",
       "\n",
       "    Unit_Cost    Unit_Price    Profit    Cost   Revenue  \n",
       "0         1252          2295      4172    5008     9180  \n",
       "1         1266          2320      1054    1266     2320  \n",
       "2          420           769       698     840     1538  \n",
       "3          420           769       349     420      769  \n",
       "4            0          2295      2086       0     4590  "
      ]
     },
     "execution_count": 96,
     "metadata": {},
     "output_type": "execute_result"
    }
   ],
   "source": [
    "data.head()"
   ]
  },
  {
   "cell_type": "code",
   "execution_count": null,
   "id": "d7f40d08",
   "metadata": {},
   "outputs": [],
   "source": []
  },
  {
   "cell_type": "markdown",
   "id": "661bae30",
   "metadata": {},
   "source": [
    "# EDA and Data Cleaning"
   ]
  },
  {
   "cell_type": "markdown",
   "id": "a513ba24",
   "metadata": {},
   "source": [
    "We will be using the describe function so that it provides a concise summary of various statistics, which can be very useful for initial data exploration and understanding the distribution of your data."
   ]
  },
  {
   "cell_type": "code",
   "execution_count": 74,
   "id": "f12ca749",
   "metadata": {},
   "outputs": [
    {
     "data": {
      "text/html": [
       "<div>\n",
       "<style scoped>\n",
       "    .dataframe tbody tr th:only-of-type {\n",
       "        vertical-align: middle;\n",
       "    }\n",
       "\n",
       "    .dataframe tbody tr th {\n",
       "        vertical-align: top;\n",
       "    }\n",
       "\n",
       "    .dataframe thead th {\n",
       "        text-align: right;\n",
       "    }\n",
       "</style>\n",
       "<table border=\"1\" class=\"dataframe\">\n",
       "  <thead>\n",
       "    <tr style=\"text-align: right;\">\n",
       "      <th></th>\n",
       "      <th>count</th>\n",
       "      <th>mean</th>\n",
       "      <th>std</th>\n",
       "      <th>min</th>\n",
       "      <th>25%</th>\n",
       "      <th>50%</th>\n",
       "      <th>75%</th>\n",
       "      <th>max</th>\n",
       "    </tr>\n",
       "  </thead>\n",
       "  <tbody>\n",
       "    <tr>\n",
       "      <th>Sales_Order #</th>\n",
       "      <td>89.0</td>\n",
       "      <td>261738.067416</td>\n",
       "      <td>25.729713</td>\n",
       "      <td>261695.0</td>\n",
       "      <td>261716.00</td>\n",
       "      <td>261738.0</td>\n",
       "      <td>261760.0</td>\n",
       "      <td>261782.0</td>\n",
       "    </tr>\n",
       "    <tr>\n",
       "      <th>Day</th>\n",
       "      <td>88.0</td>\n",
       "      <td>13.534091</td>\n",
       "      <td>6.391353</td>\n",
       "      <td>1.0</td>\n",
       "      <td>8.75</td>\n",
       "      <td>13.5</td>\n",
       "      <td>19.0</td>\n",
       "      <td>24.0</td>\n",
       "    </tr>\n",
       "    <tr>\n",
       "      <th>Year</th>\n",
       "      <td>89.0</td>\n",
       "      <td>2021.000000</td>\n",
       "      <td>0.000000</td>\n",
       "      <td>2021.0</td>\n",
       "      <td>2021.00</td>\n",
       "      <td>2021.0</td>\n",
       "      <td>2021.0</td>\n",
       "      <td>2021.0</td>\n",
       "    </tr>\n",
       "    <tr>\n",
       "      <th>Customer_Age</th>\n",
       "      <td>89.0</td>\n",
       "      <td>34.202247</td>\n",
       "      <td>8.090651</td>\n",
       "      <td>17.0</td>\n",
       "      <td>30.00</td>\n",
       "      <td>35.0</td>\n",
       "      <td>38.0</td>\n",
       "      <td>63.0</td>\n",
       "    </tr>\n",
       "    <tr>\n",
       "      <th>Order_Quantity</th>\n",
       "      <td>88.0</td>\n",
       "      <td>2.125000</td>\n",
       "      <td>1.239322</td>\n",
       "      <td>1.0</td>\n",
       "      <td>1.00</td>\n",
       "      <td>2.0</td>\n",
       "      <td>3.0</td>\n",
       "      <td>4.0</td>\n",
       "    </tr>\n",
       "    <tr>\n",
       "      <th>Unit_Cost</th>\n",
       "      <td>89.0</td>\n",
       "      <td>1052.247191</td>\n",
       "      <td>440.499001</td>\n",
       "      <td>0.0</td>\n",
       "      <td>420.00</td>\n",
       "      <td>1252.0</td>\n",
       "      <td>1266.0</td>\n",
       "      <td>1912.0</td>\n",
       "    </tr>\n",
       "    <tr>\n",
       "      <th>Unit_Price</th>\n",
       "      <td>89.0</td>\n",
       "      <td>1940.943820</td>\n",
       "      <td>789.955743</td>\n",
       "      <td>0.0</td>\n",
       "      <td>2295.00</td>\n",
       "      <td>2295.0</td>\n",
       "      <td>2320.0</td>\n",
       "      <td>3400.0</td>\n",
       "    </tr>\n",
       "    <tr>\n",
       "      <th>Profit</th>\n",
       "      <td>89.0</td>\n",
       "      <td>1848.887640</td>\n",
       "      <td>1394.401162</td>\n",
       "      <td>245.0</td>\n",
       "      <td>1043.00</td>\n",
       "      <td>1054.0</td>\n",
       "      <td>2954.0</td>\n",
       "      <td>5908.0</td>\n",
       "    </tr>\n",
       "    <tr>\n",
       "      <th>Cost</th>\n",
       "      <td>89.0</td>\n",
       "      <td>2204.235955</td>\n",
       "      <td>1730.330926</td>\n",
       "      <td>0.0</td>\n",
       "      <td>1252.00</td>\n",
       "      <td>1266.0</td>\n",
       "      <td>3756.0</td>\n",
       "      <td>7592.0</td>\n",
       "    </tr>\n",
       "    <tr>\n",
       "      <th>Revenue</th>\n",
       "      <td>89.0</td>\n",
       "      <td>4043.943820</td>\n",
       "      <td>3139.758580</td>\n",
       "      <td>0.0</td>\n",
       "      <td>2295.00</td>\n",
       "      <td>2320.0</td>\n",
       "      <td>6750.0</td>\n",
       "      <td>13500.0</td>\n",
       "    </tr>\n",
       "  </tbody>\n",
       "</table>\n",
       "</div>"
      ],
      "text/plain": [
       "                count           mean          std       min        25%  \\\n",
       "Sales_Order #    89.0  261738.067416    25.729713  261695.0  261716.00   \n",
       "Day              88.0      13.534091     6.391353       1.0       8.75   \n",
       "Year             89.0    2021.000000     0.000000    2021.0    2021.00   \n",
       "Customer_Age     89.0      34.202247     8.090651      17.0      30.00   \n",
       "Order_Quantity   88.0       2.125000     1.239322       1.0       1.00   \n",
       " Unit_Cost       89.0    1052.247191   440.499001       0.0     420.00   \n",
       " Unit_Price      89.0    1940.943820   789.955743       0.0    2295.00   \n",
       " Profit          89.0    1848.887640  1394.401162     245.0    1043.00   \n",
       " Cost            89.0    2204.235955  1730.330926       0.0    1252.00   \n",
       "Revenue          89.0    4043.943820  3139.758580       0.0    2295.00   \n",
       "\n",
       "                     50%       75%       max  \n",
       "Sales_Order #   261738.0  261760.0  261782.0  \n",
       "Day                 13.5      19.0      24.0  \n",
       "Year              2021.0    2021.0    2021.0  \n",
       "Customer_Age        35.0      38.0      63.0  \n",
       "Order_Quantity       2.0       3.0       4.0  \n",
       " Unit_Cost        1252.0    1266.0    1912.0  \n",
       " Unit_Price       2295.0    2320.0    3400.0  \n",
       " Profit           1054.0    2954.0    5908.0  \n",
       " Cost             1266.0    3756.0    7592.0  \n",
       "Revenue           2320.0    6750.0   13500.0  "
      ]
     },
     "execution_count": 74,
     "metadata": {},
     "output_type": "execute_result"
    }
   ],
   "source": [
    "data.describe().T"
   ]
  },
  {
   "cell_type": "code",
   "execution_count": 75,
   "id": "738552ba",
   "metadata": {},
   "outputs": [
    {
     "data": {
      "text/html": [
       "<div>\n",
       "<style scoped>\n",
       "    .dataframe tbody tr th:only-of-type {\n",
       "        vertical-align: middle;\n",
       "    }\n",
       "\n",
       "    .dataframe tbody tr th {\n",
       "        vertical-align: top;\n",
       "    }\n",
       "\n",
       "    .dataframe thead th {\n",
       "        text-align: right;\n",
       "    }\n",
       "</style>\n",
       "<table border=\"1\" class=\"dataframe\">\n",
       "  <thead>\n",
       "    <tr style=\"text-align: right;\">\n",
       "      <th></th>\n",
       "      <th>count</th>\n",
       "      <th>unique</th>\n",
       "      <th>top</th>\n",
       "      <th>freq</th>\n",
       "    </tr>\n",
       "  </thead>\n",
       "  <tbody>\n",
       "    <tr>\n",
       "      <th>Month</th>\n",
       "      <td>89</td>\n",
       "      <td>2</td>\n",
       "      <td>December</td>\n",
       "      <td>88</td>\n",
       "    </tr>\n",
       "    <tr>\n",
       "      <th>Age_Group</th>\n",
       "      <td>88</td>\n",
       "      <td>3</td>\n",
       "      <td>Adults (35-64)</td>\n",
       "      <td>47</td>\n",
       "    </tr>\n",
       "    <tr>\n",
       "      <th>Customer_Gender</th>\n",
       "      <td>89</td>\n",
       "      <td>2</td>\n",
       "      <td>F</td>\n",
       "      <td>50</td>\n",
       "    </tr>\n",
       "    <tr>\n",
       "      <th>Country</th>\n",
       "      <td>89</td>\n",
       "      <td>9</td>\n",
       "      <td>United States</td>\n",
       "      <td>30</td>\n",
       "    </tr>\n",
       "    <tr>\n",
       "      <th>State</th>\n",
       "      <td>89</td>\n",
       "      <td>17</td>\n",
       "      <td>California</td>\n",
       "      <td>20</td>\n",
       "    </tr>\n",
       "    <tr>\n",
       "      <th>Product_Category</th>\n",
       "      <td>89</td>\n",
       "      <td>1</td>\n",
       "      <td>Bikes</td>\n",
       "      <td>89</td>\n",
       "    </tr>\n",
       "    <tr>\n",
       "      <th>Sub_Category</th>\n",
       "      <td>89</td>\n",
       "      <td>1</td>\n",
       "      <td>Mountain Bikes</td>\n",
       "      <td>89</td>\n",
       "    </tr>\n",
       "    <tr>\n",
       "      <th>Product_Description</th>\n",
       "      <td>88</td>\n",
       "      <td>18</td>\n",
       "      <td>Mountain-200 Black, 46</td>\n",
       "      <td>15</td>\n",
       "    </tr>\n",
       "  </tbody>\n",
       "</table>\n",
       "</div>"
      ],
      "text/plain": [
       "                    count unique                     top freq\n",
       "Month                  89      2                December   88\n",
       "Age_Group              88      3          Adults (35-64)   47\n",
       "Customer_Gender        89      2                       F   50\n",
       "Country                89      9           United States   30\n",
       "State                  89     17              California   20\n",
       "Product_Category       89      1                   Bikes   89\n",
       "Sub_Category           89      1          Mountain Bikes   89\n",
       "Product_Description    88     18  Mountain-200 Black, 46   15"
      ]
     },
     "execution_count": 75,
     "metadata": {},
     "output_type": "execute_result"
    }
   ],
   "source": [
    "data.describe(include='object').T"
   ]
  },
  {
   "cell_type": "markdown",
   "id": "abc7fc20",
   "metadata": {},
   "source": [
    "Next, we will find we have any duplicated data in the dataset and if we find such data we can drop them."
   ]
  },
  {
   "cell_type": "code",
   "execution_count": 76,
   "id": "eef1aeb6",
   "metadata": {},
   "outputs": [
    {
     "data": {
      "text/html": [
       "<div>\n",
       "<style scoped>\n",
       "    .dataframe tbody tr th:only-of-type {\n",
       "        vertical-align: middle;\n",
       "    }\n",
       "\n",
       "    .dataframe tbody tr th {\n",
       "        vertical-align: top;\n",
       "    }\n",
       "\n",
       "    .dataframe thead th {\n",
       "        text-align: right;\n",
       "    }\n",
       "</style>\n",
       "<table border=\"1\" class=\"dataframe\">\n",
       "  <thead>\n",
       "    <tr style=\"text-align: right;\">\n",
       "      <th></th>\n",
       "      <th>Sales_Order #</th>\n",
       "      <th>Date</th>\n",
       "      <th>Day</th>\n",
       "      <th>Month</th>\n",
       "      <th>Year</th>\n",
       "      <th>Customer_Age</th>\n",
       "      <th>Age_Group</th>\n",
       "      <th>Customer_Gender</th>\n",
       "      <th>Country</th>\n",
       "      <th>State</th>\n",
       "      <th>Product_Category</th>\n",
       "      <th>Sub_Category</th>\n",
       "      <th>Product_Description</th>\n",
       "      <th>Order_Quantity</th>\n",
       "      <th>Unit_Cost</th>\n",
       "      <th>Unit_Price</th>\n",
       "      <th>Profit</th>\n",
       "      <th>Cost</th>\n",
       "      <th>Revenue</th>\n",
       "    </tr>\n",
       "  </thead>\n",
       "  <tbody>\n",
       "  </tbody>\n",
       "</table>\n",
       "</div>"
      ],
      "text/plain": [
       "Empty DataFrame\n",
       "Columns: [Sales_Order #, Date, Day, Month, Year, Customer_Age, Age_Group, Customer_Gender, Country, State, Product_Category, Sub_Category, Product_Description, Order_Quantity,  Unit_Cost ,  Unit_Price ,  Profit ,  Cost , Revenue]\n",
       "Index: []"
      ]
     },
     "execution_count": 76,
     "metadata": {},
     "output_type": "execute_result"
    }
   ],
   "source": [
    "data[data.duplicated()]"
   ]
  },
  {
   "cell_type": "markdown",
   "id": "93e30364",
   "metadata": {},
   "source": [
    "Next, we will be understanding the data and its datatypes so it will help us in exploration"
   ]
  },
  {
   "cell_type": "code",
   "execution_count": 77,
   "id": "ddccb2cf",
   "metadata": {},
   "outputs": [
    {
     "name": "stdout",
     "output_type": "stream",
     "text": [
      "<class 'pandas.core.frame.DataFrame'>\n",
      "RangeIndex: 89 entries, 0 to 88\n",
      "Data columns (total 19 columns):\n",
      " #   Column               Non-Null Count  Dtype         \n",
      "---  ------               --------------  -----         \n",
      " 0   Sales_Order #        89 non-null     int64         \n",
      " 1   Date                 89 non-null     datetime64[ns]\n",
      " 2   Day                  88 non-null     float64       \n",
      " 3   Month                89 non-null     object        \n",
      " 4   Year                 89 non-null     int64         \n",
      " 5   Customer_Age         89 non-null     int64         \n",
      " 6   Age_Group            88 non-null     object        \n",
      " 7   Customer_Gender      89 non-null     object        \n",
      " 8   Country              89 non-null     object        \n",
      " 9   State                89 non-null     object        \n",
      " 10  Product_Category     89 non-null     object        \n",
      " 11  Sub_Category         89 non-null     object        \n",
      " 12  Product_Description  88 non-null     object        \n",
      " 13  Order_Quantity       88 non-null     float64       \n",
      " 14   Unit_Cost           89 non-null     int64         \n",
      " 15   Unit_Price          89 non-null     int64         \n",
      " 16   Profit              89 non-null     int64         \n",
      " 17   Cost                89 non-null     int64         \n",
      " 18  Revenue              89 non-null     int64         \n",
      "dtypes: datetime64[ns](1), float64(2), int64(8), object(8)\n",
      "memory usage: 13.3+ KB\n"
     ]
    }
   ],
   "source": [
    "data.info()"
   ]
  },
  {
   "cell_type": "markdown",
   "id": "0618ba11",
   "metadata": {},
   "source": [
    "Next, we will find if the dataset has null values and handle them."
   ]
  },
  {
   "cell_type": "code",
   "execution_count": 98,
   "id": "6e26d850",
   "metadata": {},
   "outputs": [],
   "source": [
    "# the data tends to have 1 null value in the Order_Quantity,Product_Description & Day  column, we can drop it.\n",
    "\n",
    "data.dropna(subset=['Order_Quantity'],inplace=True)\n",
    "data.dropna(subset=['Day'],inplace=True)\n",
    "data.dropna(subset=['Product_Description'],inplace=True)"
   ]
  },
  {
   "cell_type": "code",
   "execution_count": 99,
   "id": "0fc6be5e",
   "metadata": {},
   "outputs": [
    {
     "data": {
      "text/plain": [
       "Sales_Order #          0\n",
       "Date                   0\n",
       "Day                    0\n",
       "Month                  0\n",
       "Year                   0\n",
       "Customer_Age           0\n",
       "Age_Group              1\n",
       "Customer_Gender        0\n",
       "Country                0\n",
       "State                  0\n",
       "Product_Category       0\n",
       "Sub_Category           0\n",
       "Product_Description    0\n",
       "Order_Quantity         0\n",
       " Unit_Cost             0\n",
       " Unit_Price            0\n",
       " Profit                0\n",
       " Cost                  0\n",
       "Revenue                0\n",
       "dtype: int64"
      ]
     },
     "execution_count": 99,
     "metadata": {},
     "output_type": "execute_result"
    }
   ],
   "source": [
    "data.isnull().sum()"
   ]
  },
  {
   "cell_type": "markdown",
   "id": "30c3e1ef",
   "metadata": {},
   "source": [
    "We can find out the the missing value in the Age_Group columns by cross checking it with Customer_Age columns and find out the right value in that field"
   ]
  },
  {
   "cell_type": "code",
   "execution_count": 100,
   "id": "83dda045",
   "metadata": {},
   "outputs": [
    {
     "data": {
      "text/plain": [
       "array(['Adults (35-64)', 'Young Adults (25-34)', 'Youth (<25)', nan],\n",
       "      dtype=object)"
      ]
     },
     "execution_count": 100,
     "metadata": {},
     "output_type": "execute_result"
    }
   ],
   "source": [
    "data.Age_Group.unique()"
   ]
  },
  {
   "cell_type": "code",
   "execution_count": 101,
   "id": "dc568e72",
   "metadata": {},
   "outputs": [],
   "source": [
    "group_age_null_index = data[data['Age_Group'].isnull()].index.tolist()"
   ]
  },
  {
   "cell_type": "code",
   "execution_count": 102,
   "id": "3c368352",
   "metadata": {},
   "outputs": [
    {
     "name": "stderr",
     "output_type": "stream",
     "text": [
      "C:\\Users\\Admin\\AppData\\Local\\Temp\\ipykernel_4832\\3145823666.py:7: SettingWithCopyWarning: \n",
      "A value is trying to be set on a copy of a slice from a DataFrame\n",
      "\n",
      "See the caveats in the documentation: https://pandas.pydata.org/pandas-docs/stable/user_guide/indexing.html#returning-a-view-versus-a-copy\n",
      "  data['Age_Group'].loc[index] = 'Adults (35-64)'\n"
     ]
    }
   ],
   "source": [
    "for index in group_age_null_index: \n",
    "    if (data['Customer_Age'].loc[index] <25 ):\n",
    "        data['Age_Group'].loc[index]  = 'Youth'\n",
    "    elif 25<=data['Customer_Age'].loc[index]<=34:\n",
    "        data['Age_Group'].loc[index]  = 'Young Adults'\n",
    "    elif 35<=data['Customer_Age'].loc[index]<=64 : \n",
    "        data['Age_Group'].loc[index] = 'Adults (35-64)'"
   ]
  },
  {
   "cell_type": "code",
   "execution_count": 103,
   "id": "aa182512",
   "metadata": {},
   "outputs": [
    {
     "data": {
      "text/plain": [
       "0"
      ]
     },
     "execution_count": 103,
     "metadata": {},
     "output_type": "execute_result"
    }
   ],
   "source": [
    "data.Age_Group.isnull().sum()"
   ]
  },
  {
   "cell_type": "markdown",
   "id": "ddd1589a",
   "metadata": {},
   "source": [
    "Next, We can see that there are extra spaces in front of 4 columns(Unit_Cost,Unit_Price,Profit,Cost). We will be removing these extra spaces."
   ]
  },
  {
   "cell_type": "code",
   "execution_count": 104,
   "id": "40f2ad42",
   "metadata": {},
   "outputs": [
    {
     "data": {
      "text/plain": [
       "Index(['Sales_Order #', 'Date', 'Day', 'Month', 'Year', 'Customer_Age',\n",
       "       'Age_Group', 'Customer_Gender', 'Country', 'State', 'Product_Category',\n",
       "       'Sub_Category', 'Product_Description', 'Order_Quantity', ' Unit_Cost ',\n",
       "       ' Unit_Price ', ' Profit ', ' Cost ', 'Revenue'],\n",
       "      dtype='object')"
      ]
     },
     "execution_count": 104,
     "metadata": {},
     "output_type": "execute_result"
    }
   ],
   "source": [
    "data.columns"
   ]
  },
  {
   "cell_type": "code",
   "execution_count": 105,
   "id": "db62cce1",
   "metadata": {},
   "outputs": [],
   "source": [
    "# Remove extra spaces from column names\n",
    "\n",
    "data.columns = data.columns.str.strip()"
   ]
  },
  {
   "cell_type": "code",
   "execution_count": 106,
   "id": "e5b5a9a4",
   "metadata": {},
   "outputs": [
    {
     "data": {
      "text/html": [
       "<div>\n",
       "<style scoped>\n",
       "    .dataframe tbody tr th:only-of-type {\n",
       "        vertical-align: middle;\n",
       "    }\n",
       "\n",
       "    .dataframe tbody tr th {\n",
       "        vertical-align: top;\n",
       "    }\n",
       "\n",
       "    .dataframe thead th {\n",
       "        text-align: right;\n",
       "    }\n",
       "</style>\n",
       "<table border=\"1\" class=\"dataframe\">\n",
       "  <thead>\n",
       "    <tr style=\"text-align: right;\">\n",
       "      <th></th>\n",
       "      <th>Sales_Order #</th>\n",
       "      <th>Date</th>\n",
       "      <th>Day</th>\n",
       "      <th>Month</th>\n",
       "      <th>Year</th>\n",
       "      <th>Customer_Age</th>\n",
       "      <th>Age_Group</th>\n",
       "      <th>Customer_Gender</th>\n",
       "      <th>Country</th>\n",
       "      <th>State</th>\n",
       "      <th>Product_Category</th>\n",
       "      <th>Sub_Category</th>\n",
       "      <th>Product_Description</th>\n",
       "      <th>Order_Quantity</th>\n",
       "      <th>Unit_Cost</th>\n",
       "      <th>Unit_Price</th>\n",
       "      <th>Profit</th>\n",
       "      <th>Cost</th>\n",
       "      <th>Revenue</th>\n",
       "    </tr>\n",
       "  </thead>\n",
       "  <tbody>\n",
       "    <tr>\n",
       "      <th>0</th>\n",
       "      <td>261695</td>\n",
       "      <td>2021-12-01</td>\n",
       "      <td>1.0</td>\n",
       "      <td>December</td>\n",
       "      <td>2021</td>\n",
       "      <td>39</td>\n",
       "      <td>Adults (35-64)</td>\n",
       "      <td>F</td>\n",
       "      <td>United States</td>\n",
       "      <td>California</td>\n",
       "      <td>Bikes</td>\n",
       "      <td>Mountain Bikes</td>\n",
       "      <td>Mountain-200 Black, 46</td>\n",
       "      <td>4.0</td>\n",
       "      <td>1252</td>\n",
       "      <td>2295</td>\n",
       "      <td>4172</td>\n",
       "      <td>5008</td>\n",
       "      <td>9180</td>\n",
       "    </tr>\n",
       "    <tr>\n",
       "      <th>1</th>\n",
       "      <td>261695</td>\n",
       "      <td>2021-12-01</td>\n",
       "      <td>1.0</td>\n",
       "      <td>December</td>\n",
       "      <td>2021</td>\n",
       "      <td>44</td>\n",
       "      <td>Adults (35-64)</td>\n",
       "      <td>M</td>\n",
       "      <td>United Kingdom</td>\n",
       "      <td>England</td>\n",
       "      <td>Bikes</td>\n",
       "      <td>Mountain Bikes</td>\n",
       "      <td>Mountain-200 Silver, 42</td>\n",
       "      <td>1.0</td>\n",
       "      <td>1266</td>\n",
       "      <td>2320</td>\n",
       "      <td>1054</td>\n",
       "      <td>1266</td>\n",
       "      <td>2320</td>\n",
       "    </tr>\n",
       "  </tbody>\n",
       "</table>\n",
       "</div>"
      ],
      "text/plain": [
       "   Sales_Order #       Date  Day     Month  Year  Customer_Age  \\\n",
       "0         261695 2021-12-01  1.0  December  2021            39   \n",
       "1         261695 2021-12-01  1.0  December  2021            44   \n",
       "\n",
       "        Age_Group Customer_Gender         Country       State  \\\n",
       "0  Adults (35-64)               F   United States  California   \n",
       "1  Adults (35-64)               M  United Kingdom     England   \n",
       "\n",
       "  Product_Category    Sub_Category      Product_Description  Order_Quantity  \\\n",
       "0            Bikes  Mountain Bikes   Mountain-200 Black, 46             4.0   \n",
       "1            Bikes  Mountain Bikes  Mountain-200 Silver, 42             1.0   \n",
       "\n",
       "   Unit_Cost  Unit_Price  Profit  Cost  Revenue  \n",
       "0       1252        2295    4172  5008     9180  \n",
       "1       1266        2320    1054  1266     2320  "
      ]
     },
     "execution_count": 106,
     "metadata": {},
     "output_type": "execute_result"
    }
   ],
   "source": [
    "data.head(2)"
   ]
  },
  {
   "cell_type": "markdown",
   "id": "3b6b387e",
   "metadata": {},
   "source": [
    "Next, we will be dopping the unwanted columns."
   ]
  },
  {
   "cell_type": "code",
   "execution_count": 107,
   "id": "dd720bbb",
   "metadata": {},
   "outputs": [],
   "source": [
    "data = data.drop(columns = ['Product_Category','Sub_Category'])"
   ]
  },
  {
   "cell_type": "code",
   "execution_count": 108,
   "id": "0b499c85",
   "metadata": {},
   "outputs": [
    {
     "data": {
      "text/html": [
       "<div>\n",
       "<style scoped>\n",
       "    .dataframe tbody tr th:only-of-type {\n",
       "        vertical-align: middle;\n",
       "    }\n",
       "\n",
       "    .dataframe tbody tr th {\n",
       "        vertical-align: top;\n",
       "    }\n",
       "\n",
       "    .dataframe thead th {\n",
       "        text-align: right;\n",
       "    }\n",
       "</style>\n",
       "<table border=\"1\" class=\"dataframe\">\n",
       "  <thead>\n",
       "    <tr style=\"text-align: right;\">\n",
       "      <th></th>\n",
       "      <th>Sales_Order #</th>\n",
       "      <th>Date</th>\n",
       "      <th>Day</th>\n",
       "      <th>Month</th>\n",
       "      <th>Year</th>\n",
       "      <th>Customer_Age</th>\n",
       "      <th>Age_Group</th>\n",
       "      <th>Customer_Gender</th>\n",
       "      <th>Country</th>\n",
       "      <th>State</th>\n",
       "      <th>Product_Description</th>\n",
       "      <th>Order_Quantity</th>\n",
       "      <th>Unit_Cost</th>\n",
       "      <th>Unit_Price</th>\n",
       "      <th>Profit</th>\n",
       "      <th>Cost</th>\n",
       "      <th>Revenue</th>\n",
       "    </tr>\n",
       "  </thead>\n",
       "  <tbody>\n",
       "    <tr>\n",
       "      <th>0</th>\n",
       "      <td>261695</td>\n",
       "      <td>2021-12-01</td>\n",
       "      <td>1.0</td>\n",
       "      <td>December</td>\n",
       "      <td>2021</td>\n",
       "      <td>39</td>\n",
       "      <td>Adults (35-64)</td>\n",
       "      <td>F</td>\n",
       "      <td>United States</td>\n",
       "      <td>California</td>\n",
       "      <td>Mountain-200 Black, 46</td>\n",
       "      <td>4.0</td>\n",
       "      <td>1252</td>\n",
       "      <td>2295</td>\n",
       "      <td>4172</td>\n",
       "      <td>5008</td>\n",
       "      <td>9180</td>\n",
       "    </tr>\n",
       "    <tr>\n",
       "      <th>1</th>\n",
       "      <td>261695</td>\n",
       "      <td>2021-12-01</td>\n",
       "      <td>1.0</td>\n",
       "      <td>December</td>\n",
       "      <td>2021</td>\n",
       "      <td>44</td>\n",
       "      <td>Adults (35-64)</td>\n",
       "      <td>M</td>\n",
       "      <td>United Kingdom</td>\n",
       "      <td>England</td>\n",
       "      <td>Mountain-200 Silver, 42</td>\n",
       "      <td>1.0</td>\n",
       "      <td>1266</td>\n",
       "      <td>2320</td>\n",
       "      <td>1054</td>\n",
       "      <td>1266</td>\n",
       "      <td>2320</td>\n",
       "    </tr>\n",
       "  </tbody>\n",
       "</table>\n",
       "</div>"
      ],
      "text/plain": [
       "   Sales_Order #       Date  Day     Month  Year  Customer_Age  \\\n",
       "0         261695 2021-12-01  1.0  December  2021            39   \n",
       "1         261695 2021-12-01  1.0  December  2021            44   \n",
       "\n",
       "        Age_Group Customer_Gender         Country       State  \\\n",
       "0  Adults (35-64)               F   United States  California   \n",
       "1  Adults (35-64)               M  United Kingdom     England   \n",
       "\n",
       "       Product_Description  Order_Quantity  Unit_Cost  Unit_Price  Profit  \\\n",
       "0   Mountain-200 Black, 46             4.0       1252        2295    4172   \n",
       "1  Mountain-200 Silver, 42             1.0       1266        2320    1054   \n",
       "\n",
       "   Cost  Revenue  \n",
       "0  5008     9180  \n",
       "1  1266     2320  "
      ]
     },
     "execution_count": 108,
     "metadata": {},
     "output_type": "execute_result"
    }
   ],
   "source": [
    "data.head(2)"
   ]
  },
  {
   "cell_type": "markdown",
   "id": "609e81f5",
   "metadata": {},
   "source": [
    "# Visualization"
   ]
  },
  {
   "cell_type": "markdown",
   "id": "4adeb6fe",
   "metadata": {},
   "source": [
    "Let's find out the Total profit by date"
   ]
  },
  {
   "cell_type": "code",
   "execution_count": 109,
   "id": "2d0c329a",
   "metadata": {},
   "outputs": [
    {
     "data": {
      "image/png": "[encoded data removed]",
      "text/plain": [
       "<Figure size 1000x600 with 1 Axes>"
      ]
     },
     "metadata": {},
     "output_type": "display_data"
    }
   ],
   "source": [
    "plt.figure(figsize=(10, 6))\n",
    "sns.lineplot(data=data, x='Date', y='Profit')\n",
    "\n",
    "plt.xlabel('Date')\n",
    "plt.ylabel('Profit')\n",
    "plt.title('Profit by Date')\n",
    "plt.grid(True)\n",
    "\n",
    "plt.show()"
   ]
  },
  {
   "cell_type": "markdown",
   "id": "eed96481",
   "metadata": {},
   "source": [
    "Next, lets find out the Distribution of age groups"
   ]
  },
  {
   "cell_type": "code",
   "execution_count": 110,
   "id": "23c63783",
   "metadata": {},
   "outputs": [],
   "source": [
    "diff_age_groups = data.Age_Group.value_counts()"
   ]
  },
  {
   "cell_type": "code",
   "execution_count": 111,
   "id": "01fa7bb7",
   "metadata": {},
   "outputs": [
    {
     "data": {
      "text/plain": [
       "Text(0, 0.5, 'Age group')"
      ]
     },
     "execution_count": 111,
     "metadata": {},
     "output_type": "execute_result"
    },
    {
     "data": {
      "image/png": "[encoded data removed]",
      "text/plain": [
       "<Figure size 600x300 with 1 Axes>"
      ]
     },
     "metadata": {},
     "output_type": "display_data"
    }
   ],
   "source": [
    "plt.figure(figsize=(6,3))\n",
    "diff_age_groups.plot(kind='barh',color='skyblue', grid = True)\n",
    "plt.title('Distribution of age groups')\n",
    "plt.xlabel('Count')\n",
    "plt.ylabel('Age group')"
   ]
  },
  {
   "cell_type": "markdown",
   "id": "85e9fc11",
   "metadata": {},
   "source": [
    "Next, Lets find out the coorelation between the age and the profits by customer genders"
   ]
  },
  {
   "cell_type": "code",
   "execution_count": 112,
   "id": "19ef18cf",
   "metadata": {},
   "outputs": [
    {
     "data": {
      "text/html": [
       "<div>\n",
       "<style scoped>\n",
       "    .dataframe tbody tr th:only-of-type {\n",
       "        vertical-align: middle;\n",
       "    }\n",
       "\n",
       "    .dataframe tbody tr th {\n",
       "        vertical-align: top;\n",
       "    }\n",
       "\n",
       "    .dataframe thead th {\n",
       "        text-align: right;\n",
       "    }\n",
       "</style>\n",
       "<table border=\"1\" class=\"dataframe\">\n",
       "  <thead>\n",
       "    <tr style=\"text-align: right;\">\n",
       "      <th></th>\n",
       "      <th>Sales_Order #</th>\n",
       "      <th>Date</th>\n",
       "      <th>Day</th>\n",
       "      <th>Month</th>\n",
       "      <th>Year</th>\n",
       "      <th>Customer_Age</th>\n",
       "      <th>Age_Group</th>\n",
       "      <th>Customer_Gender</th>\n",
       "      <th>Country</th>\n",
       "      <th>State</th>\n",
       "      <th>Product_Description</th>\n",
       "      <th>Order_Quantity</th>\n",
       "      <th>Unit_Cost</th>\n",
       "      <th>Unit_Price</th>\n",
       "      <th>Profit</th>\n",
       "      <th>Cost</th>\n",
       "      <th>Revenue</th>\n",
       "    </tr>\n",
       "  </thead>\n",
       "  <tbody>\n",
       "    <tr>\n",
       "      <th>0</th>\n",
       "      <td>261695</td>\n",
       "      <td>2021-12-01</td>\n",
       "      <td>1.0</td>\n",
       "      <td>December</td>\n",
       "      <td>2021</td>\n",
       "      <td>39</td>\n",
       "      <td>Adults (35-64)</td>\n",
       "      <td>F</td>\n",
       "      <td>United States</td>\n",
       "      <td>California</td>\n",
       "      <td>Mountain-200 Black, 46</td>\n",
       "      <td>4.0</td>\n",
       "      <td>1252</td>\n",
       "      <td>2295</td>\n",
       "      <td>4172</td>\n",
       "      <td>5008</td>\n",
       "      <td>9180</td>\n",
       "    </tr>\n",
       "    <tr>\n",
       "      <th>1</th>\n",
       "      <td>261695</td>\n",
       "      <td>2021-12-01</td>\n",
       "      <td>1.0</td>\n",
       "      <td>December</td>\n",
       "      <td>2021</td>\n",
       "      <td>44</td>\n",
       "      <td>Adults (35-64)</td>\n",
       "      <td>M</td>\n",
       "      <td>United Kingdom</td>\n",
       "      <td>England</td>\n",
       "      <td>Mountain-200 Silver, 42</td>\n",
       "      <td>1.0</td>\n",
       "      <td>1266</td>\n",
       "      <td>2320</td>\n",
       "      <td>1054</td>\n",
       "      <td>1266</td>\n",
       "      <td>2320</td>\n",
       "    </tr>\n",
       "  </tbody>\n",
       "</table>\n",
       "</div>"
      ],
      "text/plain": [
       "   Sales_Order #       Date  Day     Month  Year  Customer_Age  \\\n",
       "0         261695 2021-12-01  1.0  December  2021            39   \n",
       "1         261695 2021-12-01  1.0  December  2021            44   \n",
       "\n",
       "        Age_Group Customer_Gender         Country       State  \\\n",
       "0  Adults (35-64)               F   United States  California   \n",
       "1  Adults (35-64)               M  United Kingdom     England   \n",
       "\n",
       "       Product_Description  Order_Quantity  Unit_Cost  Unit_Price  Profit  \\\n",
       "0   Mountain-200 Black, 46             4.0       1252        2295    4172   \n",
       "1  Mountain-200 Silver, 42             1.0       1266        2320    1054   \n",
       "\n",
       "   Cost  Revenue  \n",
       "0  5008     9180  \n",
       "1  1266     2320  "
      ]
     },
     "execution_count": 112,
     "metadata": {},
     "output_type": "execute_result"
    }
   ],
   "source": [
    "data.head(2)"
   ]
  },
  {
   "cell_type": "code",
   "execution_count": 113,
   "id": "26b353b9",
   "metadata": {},
   "outputs": [
    {
     "data": {
      "text/plain": [
       "<Figure size 1000x600 with 0 Axes>"
      ]
     },
     "metadata": {},
     "output_type": "display_data"
    },
    {
     "data": {
      "image/png": "[encoded data removed]",
      "text/plain": [
       "<Figure size 636.611x500 with 1 Axes>"
      ]
     },
     "metadata": {},
     "output_type": "display_data"
    }
   ],
   "source": [
    "plt.figure(figsize=(10, 6))\n",
    "\n",
    "sns.lmplot(data =data, x='Customer_Age', y='Profit', hue='Customer_Gender')\n",
    "plt.grid(True)\n",
    "\n",
    "plt.title('Profit by Age Correlation')\n",
    "plt.xlabel('Age')\n",
    "plt.ylabel('Profit')\n",
    "plt.show()"
   ]
  },
  {
   "cell_type": "markdown",
   "id": "5bf5b872",
   "metadata": {},
   "source": [
    "Next, Lets find out the top 5 models sold"
   ]
  },
  {
   "cell_type": "code",
   "execution_count": 114,
   "id": "26682df6",
   "metadata": {},
   "outputs": [
    {
     "data": {
      "text/html": [
       "<div>\n",
       "<style scoped>\n",
       "    .dataframe tbody tr th:only-of-type {\n",
       "        vertical-align: middle;\n",
       "    }\n",
       "\n",
       "    .dataframe tbody tr th {\n",
       "        vertical-align: top;\n",
       "    }\n",
       "\n",
       "    .dataframe thead th {\n",
       "        text-align: right;\n",
       "    }\n",
       "</style>\n",
       "<table border=\"1\" class=\"dataframe\">\n",
       "  <thead>\n",
       "    <tr style=\"text-align: right;\">\n",
       "      <th></th>\n",
       "      <th>Sales_Order #</th>\n",
       "      <th>Date</th>\n",
       "      <th>Day</th>\n",
       "      <th>Month</th>\n",
       "      <th>Year</th>\n",
       "      <th>Customer_Age</th>\n",
       "      <th>Age_Group</th>\n",
       "      <th>Customer_Gender</th>\n",
       "      <th>Country</th>\n",
       "      <th>State</th>\n",
       "      <th>Product_Description</th>\n",
       "      <th>Order_Quantity</th>\n",
       "      <th>Unit_Cost</th>\n",
       "      <th>Unit_Price</th>\n",
       "      <th>Profit</th>\n",
       "      <th>Cost</th>\n",
       "      <th>Revenue</th>\n",
       "    </tr>\n",
       "  </thead>\n",
       "  <tbody>\n",
       "    <tr>\n",
       "      <th>0</th>\n",
       "      <td>261695</td>\n",
       "      <td>2021-12-01</td>\n",
       "      <td>1.0</td>\n",
       "      <td>December</td>\n",
       "      <td>2021</td>\n",
       "      <td>39</td>\n",
       "      <td>Adults (35-64)</td>\n",
       "      <td>F</td>\n",
       "      <td>United States</td>\n",
       "      <td>California</td>\n",
       "      <td>Mountain-200 Black, 46</td>\n",
       "      <td>4.0</td>\n",
       "      <td>1252</td>\n",
       "      <td>2295</td>\n",
       "      <td>4172</td>\n",
       "      <td>5008</td>\n",
       "      <td>9180</td>\n",
       "    </tr>\n",
       "    <tr>\n",
       "      <th>1</th>\n",
       "      <td>261695</td>\n",
       "      <td>2021-12-01</td>\n",
       "      <td>1.0</td>\n",
       "      <td>December</td>\n",
       "      <td>2021</td>\n",
       "      <td>44</td>\n",
       "      <td>Adults (35-64)</td>\n",
       "      <td>M</td>\n",
       "      <td>United Kingdom</td>\n",
       "      <td>England</td>\n",
       "      <td>Mountain-200 Silver, 42</td>\n",
       "      <td>1.0</td>\n",
       "      <td>1266</td>\n",
       "      <td>2320</td>\n",
       "      <td>1054</td>\n",
       "      <td>1266</td>\n",
       "      <td>2320</td>\n",
       "    </tr>\n",
       "  </tbody>\n",
       "</table>\n",
       "</div>"
      ],
      "text/plain": [
       "   Sales_Order #       Date  Day     Month  Year  Customer_Age  \\\n",
       "0         261695 2021-12-01  1.0  December  2021            39   \n",
       "1         261695 2021-12-01  1.0  December  2021            44   \n",
       "\n",
       "        Age_Group Customer_Gender         Country       State  \\\n",
       "0  Adults (35-64)               F   United States  California   \n",
       "1  Adults (35-64)               M  United Kingdom     England   \n",
       "\n",
       "       Product_Description  Order_Quantity  Unit_Cost  Unit_Price  Profit  \\\n",
       "0   Mountain-200 Black, 46             4.0       1252        2295    4172   \n",
       "1  Mountain-200 Silver, 42             1.0       1266        2320    1054   \n",
       "\n",
       "   Cost  Revenue  \n",
       "0  5008     9180  \n",
       "1  1266     2320  "
      ]
     },
     "execution_count": 114,
     "metadata": {},
     "output_type": "execute_result"
    }
   ],
   "source": [
    "data.head(2)"
   ]
  },
  {
   "cell_type": "code",
   "execution_count": 115,
   "id": "58f9df5c",
   "metadata": {},
   "outputs": [
    {
     "data": {
      "image/png": "[encoded data removed]",
      "text/plain": [
       "<Figure size 1000x600 with 1 Axes>"
      ]
     },
     "metadata": {},
     "output_type": "display_data"
    }
   ],
   "source": [
    "data['Product_Description'].value_counts().head().plot(kind='bar', figsize=(10,6),grid=True,color='pink')\n",
    "\n",
    "plt.title('No of orders ')\n",
    "plt.xlabel('Bikes')\n",
    "plt.ylabel('Quantity')\n",
    "plt.xticks(rotation=25)\n",
    "plt.show()"
   ]
  },
  {
   "cell_type": "markdown",
   "id": "c0b9b0cc",
   "metadata": {},
   "source": [
    "Finally, the Heatmap correlation for the important columns in the data to find more insights on unit costs and profitability"
   ]
  },
  {
   "cell_type": "code",
   "execution_count": 116,
   "id": "ebfddcdb",
   "metadata": {},
   "outputs": [
    {
     "data": {
      "image/png": "[encoded data removed]",
      "text/plain": [
       "<Figure size 1000x600 with 2 Axes>"
      ]
     },
     "metadata": {},
     "output_type": "display_data"
    }
   ],
   "source": [
    "selected_columns = ['Order_Quantity','Unit_Cost', 'Unit_Price', 'Profit', 'Cost', 'Revenue']\n",
    "heatmap_data = data[selected_columns]\n",
    "\n",
    "plt.figure(figsize=(10,6))\n",
    "sns.heatmap(data=heatmap_data.corr(), annot=True,cmap='coolwarm', linewidths=0.5)\n",
    "plt.title('Correlation Heatmap')\n",
    "plt.show()"
   ]
  }
 ],
 "metadata": {
  "kernelspec": {
   "display_name": "Python 3 (ipykernel)",
   "language": "python",
   "name": "python3"
  },
  "language_info": {
   "codemirror_mode": {
    "name": "ipython",
    "version": 3
   },
   "file_extension": ".py",
   "mimetype": "text/x-python",
   "name": "python",
   "nbconvert_exporter": "python",
   "pygments_lexer": "ipython3",
   "version": "3.11.4"
  }
 },
 "nbformat": 4,
 "nbformat_minor": 5
}
